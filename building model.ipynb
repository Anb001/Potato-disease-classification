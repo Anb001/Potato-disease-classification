{
 "cells": [
  {
   "cell_type": "code",
   "execution_count": null,
   "id": "initial_id",
   "metadata": {
    "collapsed": true
   },
   "outputs": [],
   "source": [
    "import numpy as np\n",
    "import tensorflow as tf\n",
    "from tensorflow.keras import models, layers\n",
    "import matplotlib.pyplot as plt"
   ]
  },
  {
   "cell_type": "code",
   "execution_count": null,
   "outputs": [],
   "source": [
    "dataset=tf.keras.preprocessing.image_dataset_from_directory(\n",
    "    'data',\n",
    "    shuffle=True,\n",
    "    image_size=(256,256),\n",
    "    batch_size=32\n",
    ")"
   ],
   "metadata": {
    "collapsed": false
   },
   "id": "96f35943968e7567"
  },
  {
   "cell_type": "code",
   "execution_count": null,
   "outputs": [],
   "source": [
    "class_names=dataset.class_names"
   ],
   "metadata": {
    "collapsed": false
   },
   "id": "1d02958cc2dbfcb"
  },
  {
   "cell_type": "code",
   "execution_count": null,
   "outputs": [],
   "source": [
    "len(dataset)"
   ],
   "metadata": {
    "collapsed": false
   },
   "id": "2a624b5694667fd6"
  },
  {
   "cell_type": "code",
   "execution_count": null,
   "outputs": [],
   "source": [
    "for image_batch, label_batch in dataset.take(1):\n",
    "    plt.imshow(image_batch[0].numpy().astype('uint8'))\n",
    "    plt.title(class_names[label_batch[0]])\n",
    "    print(image_batch[0].numpy())\n",
    "    print(label_batch.numpy())"
   ],
   "metadata": {
    "collapsed": false
   },
   "id": "863c47c0cf0df736"
  },
  {
   "cell_type": "code",
   "execution_count": null,
   "outputs": [],
   "source": [
    "epochs=50\n",
    "training=0.8\n",
    "validation=0.1\n",
    "test=0.1"
   ],
   "metadata": {
    "collapsed": false
   },
   "id": "4db97b0e6ba1d5c4"
  },
  {
   "cell_type": "code",
   "execution_count": null,
   "outputs": [],
   "source": [
    "train_ds=dataset.take(54)\n",
    "test_ds=dataset.skip(54)"
   ],
   "metadata": {
    "collapsed": false
   },
   "id": "7f18e85ffce2ea9"
  },
  {
   "cell_type": "code",
   "execution_count": null,
   "outputs": [],
   "source": [
    "validation_ds= test_ds.take(6)\n",
    "test_ds=test_ds.skip(6)"
   ],
   "metadata": {
    "collapsed": false
   },
   "id": "f5cee61c14701132"
  },
  {
   "cell_type": "code",
   "execution_count": null,
   "outputs": [],
   "source": [
    "train_ds=train_ds.cache().shuffle(1000).prefetch(buffer_size=tf.data.AUTOTUNE) \n",
    "val_ds=validation_ds.cache().shuffle(1000).prefetch(buffer_size=tf.data.AUTOTUNE) \n",
    "test_ds=test_ds.cache().shuffle(1000).prefetch(buffer_size=tf.data.AUTOTUNE) "
   ],
   "metadata": {
    "collapsed": false
   },
   "id": "14404b8060e296e"
  },
  {
   "cell_type": "code",
   "execution_count": null,
   "outputs": [],
   "source": [
    "resize_and_rescale=tf.keras.Sequential([\n",
    "    layers.experimental.preprocessing.Resizing(256,256),\n",
    "    layers.experimental.preprocessing.Rescaling(1./255)\n",
    "])"
   ],
   "metadata": {
    "collapsed": false
   },
   "id": "2a4e1075de2ec397"
  },
  {
   "cell_type": "code",
   "execution_count": null,
   "outputs": [],
   "source": [
    "data_augmentation=tf.keras.Sequential([\n",
    "    layers.experimental.preprocessing.RandomFlip('horizontal_and_vertical'),\n",
    "    layers.experimental.preprocessing.RandomRotation(0.2)\n",
    "])"
   ],
   "metadata": {
    "collapsed": false
   },
   "id": "193eaba369aa3897"
  },
  {
   "cell_type": "code",
   "execution_count": null,
   "outputs": [],
   "source": [
    "model= models.Sequential([\n",
    "    resize_and_rescale,\n",
    "    data_augmentation,\n",
    "    layers.Conv2D(32,(3,3), activation='relu', input_shape=(32,256,256,3)),\n",
    "    layers.MaxPooling2D((2,2)),\n",
    "    layers.Conv2D(64,(3,3), activation='relu'),\n",
    "    layers.MaxPooling2D((2,2)),\n",
    "    layers.Conv2D(64,(3,3), activation='relu'),\n",
    "    layers.MaxPooling2D((2,2)),\n",
    "    layers.Conv2D(64,(3,3), activation='relu'),\n",
    "    layers.MaxPooling2D((2,2)),\n",
    "    layers.Conv2D(64,(3,3), activation='relu'),\n",
    "    layers.MaxPooling2D((2,2)),\n",
    "    \n",
    "    layers.Flatten(),\n",
    "    layers.Dense(64, activation='relu'),\n",
    "    layers.Dense(3, activation='softmax')\n",
    "    \n",
    "])\n",
    "model.build(input_shape=(32,256,256,3))"
   ],
   "metadata": {
    "collapsed": false
   },
   "id": "97e59147d4f4974c"
  },
  {
   "cell_type": "code",
   "execution_count": null,
   "outputs": [],
   "source": [
    "model.summary()"
   ],
   "metadata": {
    "collapsed": false
   },
   "id": "34c05eeb74e8cf37"
  },
  {
   "cell_type": "code",
   "execution_count": null,
   "outputs": [],
   "source": [
    "model.compile(optimizer='adam',\n",
    "              loss=tf.keras.losses.SparseCategoricalCrossentropy(from_logits=False),\n",
    "              metrics=['accuracy'\n",
    "                       ])"
   ],
   "metadata": {
    "collapsed": false
   },
   "id": "5e27fa5268a6e986"
  },
  {
   "cell_type": "code",
   "execution_count": null,
   "outputs": [],
   "source": [
    "model.fit(\n",
    "    train_ds,\n",
    "    epochs=epochs,\n",
    "    batch_size=32,\n",
    "    verbose=1,\n",
    "    validation_data=validation_ds\n",
    ")"
   ],
   "metadata": {
    "collapsed": false
   },
   "id": "28804f89a1e3764c"
  },
  {
   "cell_type": "code",
   "execution_count": null,
   "outputs": [],
   "source": [
    "model.evaluate(test_ds)"
   ],
   "metadata": {
    "collapsed": false
   },
   "id": "d7594f0bb2ab3743"
  },
  {
   "cell_type": "code",
   "execution_count": null,
   "outputs": [],
   "source": [
    "import numpy as np\n",
    "for image_batch, labels_batch in test_ds.take(1):\n",
    "    \n",
    "    first_image=image_batch[0].numpy().astype('uint8')\n",
    "    first_label= labels_batch[0].numpy()\n",
    "    \n",
    "    print('First image to predict')\n",
    "    plt.imshow(first_image)\n",
    "    print('Actual label:', class_names[first_label])\n",
    "    \n",
    "    batch_prediction=model.predict(image_batch)\n",
    "    print('Predicted label:',class_names[np.argmax(batch_prediction[0])])\n",
    "\n",
    "    "
   ],
   "metadata": {
    "collapsed": false
   },
   "id": "188e16eb8170b542"
  },
  {
   "cell_type": "code",
   "execution_count": null,
   "outputs": [],
   "source": [
    "def predict(model, img):\n",
    "    \n",
    "    img_array= tf.keras.preprocessing.image.img_to_array(images[i].numpy())\n",
    "    img_array= tf.expand_dims(img_array,0)\n",
    "    \n",
    "    predictions=model.predict(img_array)\n",
    "    \n",
    "    predicted_class= class_names[np.argmax(predictions[0])]\n",
    "    confidence= round(100* (np.max(predictions[0])),2)\n",
    "    \n",
    "    return predicted_class, confidence"
   ],
   "metadata": {
    "collapsed": false
   },
   "id": "f2ec9f4917e4399c"
  },
  {
   "cell_type": "code",
   "execution_count": null,
   "outputs": [],
   "source": [
    "plt.figure(figsize=(12,12))\n",
    "for images, labels in test_ds.take(1):\n",
    "    for i in range(9):\n",
    "        ax=plt.subplot(3,3,i+1)\n",
    "        plt.imshow(images[i].numpy().astype('uint8'))\n",
    "        \n",
    "        predicted_class, confidence= predict(model, images[i].numpy())\n",
    "        actual_class= class_names[labels[i]]\n",
    "        \n",
    "        plt.title(f\"Actual: {actual_class},/n Predicted: {predicted_class}. \\n Confidence: {confidence}\")\n",
    "        \n",
    "        plt.axis('off')\n",
    "        \n",
    "        "
   ],
   "metadata": {
    "collapsed": false
   },
   "id": "4ffbaf77879ab00c"
  },
  {
   "cell_type": "code",
   "execution_count": null,
   "outputs": [],
   "source": [
    "model_version=1\n",
    "model.save(f'./models/')"
   ],
   "metadata": {
    "collapsed": false
   },
   "id": "8f5946ccc0004e8f"
  },
  {
   "cell_type": "code",
   "execution_count": null,
   "outputs": [],
   "source": [],
   "metadata": {
    "collapsed": false
   },
   "id": "15b23fd91279f868"
  }
 ],
 "metadata": {
  "kernelspec": {
   "display_name": "Python 3",
   "language": "python",
   "name": "python3"
  },
  "language_info": {
   "codemirror_mode": {
    "name": "ipython",
    "version": 2
   },
   "file_extension": ".py",
   "mimetype": "text/x-python",
   "name": "python",
   "nbconvert_exporter": "python",
   "pygments_lexer": "ipython2",
   "version": "2.7.6"
  }
 },
 "nbformat": 4,
 "nbformat_minor": 5
}
